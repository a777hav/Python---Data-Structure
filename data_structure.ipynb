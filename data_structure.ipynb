{
  "nbformat": 4,
  "nbformat_minor": 0,
  "metadata": {
    "colab": {
      "provenance": []
    },
    "kernelspec": {
      "name": "python3",
      "display_name": "Python 3"
    },
    "language_info": {
      "name": "python"
    }
  },
  "cells": [
    {
      "cell_type": "markdown",
      "source": [],
      "metadata": {
        "id": "loxsxPEVnvIH"
      }
    },
    {
      "cell_type": "markdown",
      "source": [
        "# Data Types and Structures Questions\n"
      ],
      "metadata": {
        "id": "ki-nZs8bR1wb"
      }
    },
    {
      "cell_type": "markdown",
      "source": [
        "1. What are data structures, and why are\n",
        "   they important?\n",
        "  - A data structure is a way to organise and storing data properly so that it can be quickly access and manipulate.\n",
        "   its is important because of efficieny, scalability and memory management.\n",
        "\n",
        "2. Explain the difference between mutable and immutable data types with examples.\n",
        "  - Mutable data structure can be changed after creation and also support in-place modification example: list , dict , set.\n",
        "  -Immutable data structure cannot be changed after creation and creates a new object when modified example:\n",
        "  int , tuple , str.\n",
        "\n",
        "3. What are the main differences between lists and tuples in Python?\n",
        "  - lists are mutable and supports append,remove,sort etc\n",
        "  while tuples are immutable in nature and doesnt support any modification methods.\n",
        "\n",
        "4.  Describe how dictionaries store data?\n",
        "  - Dict store data as key-value pairs.\n",
        "  in dict the key must be unique and immutable , value can be of any data type.\n",
        "\n",
        "5.  Why might you use a set instead of a list in Python?\n",
        "  - In set data store with unique value which doesnt allowed duplicate values\n",
        "  and also the fast membership testing\n",
        "  also remove duplicates from a list.\n",
        "\n",
        "6.  What is a string in Python, and how is it different from a list?\n",
        "\n",
        "  - string is sequence of char in between quotes . it is immutable .\n",
        "   where in list you can store any data types and can be modified after creation which makes it mutable\n",
        "\n",
        "7. How do tuples ensure data integrity in Python?\n",
        "  - tuple is an immutable means that the elements cannot be changed by any chances which ensure the data integrity.\n",
        "\n",
        "8. What is a hash table, and how does it relate to dictionaries in Python\n",
        "  - hash table is a data structure that store key-value pairs using a hash function to map keys to indices in an array.\n",
        "  dict is implemented using hash table\n",
        "\n",
        "9. Can lists contain different data types in Python\n",
        "  - list can contain different types of data types .\n",
        "\n",
        "10. Explain why strings are immutable in Python\n",
        "  - it affect memory optimization\n",
        "   and strings are also used in dict.\n",
        "\n",
        "11. What advantages do dictionaries offer over lists for certain tasks?\n",
        "  - dict are faster when it comes to lookup speed\n",
        "  - doesnt store duplicate keys\n",
        "  - more effcient for large datasets when searching by keys\n",
        "\n",
        "12. Describe a scenario where using a tuple would be preferable over a list\n",
        "  - we can use tuple for storing data which doesnt need to modified or change for example aadhar card number or employment id which are unique and we dont wanted to change its value.\n",
        "  which makes the security good for database.\n",
        "\n",
        "13. How do sets handle duplicate values in Python\n",
        "  - set automatically remove duplicates values in python. when you add duplicate element to a set , python stores only unique values and ignores duplicates.\n",
        "\n",
        "14. How does the “in” keyword work differently for lists and dictionaries\n",
        "  - the in keyword is used to check for membership in both lists and dictionaries, but it behaves differently in each case\n",
        "  .In a list, in checks whether a specific value exists.\n",
        "  In a dictionary, in checks if a key exists (not the value).\n",
        "\n",
        "15. Can you modify the elements of a tuple? Explain why or why not.\n",
        "  - No, you cannot modify the elements of a tuple in Python.\n",
        "  tuples are immutable , memory & performance benefits\n",
        "\n",
        "16.  What is a nested dictionary, and give an example of its use case?\n",
        "  - A nested dictionary is a dictionary inside another dictionary. It allows storing hierarchical or structured data, making it useful for representing complex relationships.\n",
        "  - Imagine you need to store information about multiple students, including their name, age, and subjects with marks.\n",
        "\n",
        "17. Describe the time complexity of accessing elements in a dictionary\n",
        "  -\n",
        "\n",
        "18. In what situations are lists preferred over dictionaries?\n",
        "  - While dictionaries (dict) offer fast lookups with key-value pairs, lists (list) are better suited for certain tasks. Below are cases where lists are preferred over dictionaries.Lists maintain the order of elements, whereas dictionaries did not.\n",
        "  Lists allow index-based access (O(1) for direct indexing)\n",
        "\n",
        "19. Why are dictionaries considered unordered, and how does that affect data retrieval\n",
        "  - Dictionaries in Python were considered unordered in the past because they used hash tables to store key-value pairs. This meant that the order of elements was not fixed or guaranteed before Python 3.7. The elements could appear in any order when retrieved, making it unpredictable.  \n",
        "\n",
        "20. Explain the difference between a list and a dictionary in terms of data retrieval.\n",
        "  - list: uses indexing , searches sequentially if the index is unknown\n",
        "  it is ordered, stores elements in a sequential manner.\n",
        "  - dict: uses key-based lookup\n",
        "  uses a hash table for fast lookups\n",
        "  ordered , but internally stored using hashing\n",
        "  stores key-values pairs for faster retrieval\n"
      ],
      "metadata": {
        "id": "8muCM3TAR6iE"
      }
    },
    {
      "cell_type": "markdown",
      "source": [
        "#Practical Questions"
      ],
      "metadata": {
        "id": "yIY58Y5SO4Xf"
      }
    },
    {
      "cell_type": "code",
      "source": [
        "#Write a code to create a string with your name and print it\n",
        "name=\"anubhav\"\n",
        "print(name)"
      ],
      "metadata": {
        "colab": {
          "base_uri": "https://localhost:8080/"
        },
        "id": "geH0wVU4R50_",
        "outputId": "8e6dffc1-57b7-4b71-8316-a6f7643219ad"
      },
      "execution_count": 1,
      "outputs": [
        {
          "output_type": "stream",
          "name": "stdout",
          "text": [
            "anubhav\n"
          ]
        }
      ]
    },
    {
      "cell_type": "code",
      "source": [
        "# Write a code to find the length of the string \"Hello World\"\n",
        "a=\"hello word\"\n",
        "print(len(a))"
      ],
      "metadata": {
        "colab": {
          "base_uri": "https://localhost:8080/"
        },
        "id": "6Q3n_oqPPJmv",
        "outputId": "989ffa3f-01e8-42ac-95cb-7343561155e7"
      },
      "execution_count": 2,
      "outputs": [
        {
          "output_type": "stream",
          "name": "stdout",
          "text": [
            "10\n"
          ]
        }
      ]
    },
    {
      "cell_type": "code",
      "source": [
        "#  Write a code to slice the first 3 characters from the string \"Python Programming\"\n",
        "a=\"python programming\"\n",
        "print(a[:3])"
      ],
      "metadata": {
        "colab": {
          "base_uri": "https://localhost:8080/"
        },
        "id": "AaoqEEOHPXQ4",
        "outputId": "188ae0c7-b72e-4a3a-a9ed-9f9bf8e3bcc6"
      },
      "execution_count": 3,
      "outputs": [
        {
          "output_type": "stream",
          "name": "stdout",
          "text": [
            "pyt\n"
          ]
        }
      ]
    },
    {
      "cell_type": "code",
      "source": [
        "# Write a code to convert the string \"hello\" to uppercase\n",
        "a=\"hello\"\n",
        "print(a.upper())\n"
      ],
      "metadata": {
        "colab": {
          "base_uri": "https://localhost:8080/"
        },
        "id": "NAJup5sFPwyE",
        "outputId": "c1442caa-332a-419e-e8e1-ad984a5c19e9"
      },
      "execution_count": 4,
      "outputs": [
        {
          "output_type": "stream",
          "name": "stdout",
          "text": [
            "HELLO\n"
          ]
        }
      ]
    },
    {
      "cell_type": "code",
      "source": [
        "# Write a code to replace the word \"apple\" with \"orange\" in the string \"I like apple\"\n",
        "a=\"i like apple\"\n",
        "print(a.replace(\"apple\",\"orange\"))"
      ],
      "metadata": {
        "colab": {
          "base_uri": "https://localhost:8080/"
        },
        "id": "1FNMDmuOP-lw",
        "outputId": "13ee578a-0bcc-4fa8-b5e4-234bea7b6dd5"
      },
      "execution_count": 5,
      "outputs": [
        {
          "output_type": "stream",
          "name": "stdout",
          "text": [
            "i like orange\n"
          ]
        }
      ]
    },
    {
      "cell_type": "code",
      "source": [
        "# Write a code to create a list with numbers 1 to 5 and print it\n",
        "for i in range(6):\n",
        "  print([i])"
      ],
      "metadata": {
        "colab": {
          "base_uri": "https://localhost:8080/"
        },
        "id": "EjvT6hP1QM0c",
        "outputId": "92870014-1940-4f16-ace1-26f4dabdcc70"
      },
      "execution_count": 8,
      "outputs": [
        {
          "output_type": "stream",
          "name": "stdout",
          "text": [
            "[0]\n",
            "[1]\n",
            "[2]\n",
            "[3]\n",
            "[4]\n",
            "[5]\n"
          ]
        }
      ]
    },
    {
      "cell_type": "code",
      "source": [
        "#  Write a code to append the number 10 to the list [1, 2, 3, 4]\n",
        "a=[1,2,3,4]\n",
        "a.append(10)\n",
        "print(a)"
      ],
      "metadata": {
        "colab": {
          "base_uri": "https://localhost:8080/"
        },
        "id": "UoFpU52jQayc",
        "outputId": "3a3f06aa-2a76-43dd-d18e-cd4cf54a2865"
      },
      "execution_count": 9,
      "outputs": [
        {
          "output_type": "stream",
          "name": "stdout",
          "text": [
            "[1, 2, 3, 4, 10]\n"
          ]
        }
      ]
    },
    {
      "cell_type": "code",
      "source": [
        "#  Write a code to remove the number 3 from the list [1, 2, 3, 4, 5]\n",
        "a=[1,2,3,4,5]\n",
        "a.remove(3)\n",
        "a"
      ],
      "metadata": {
        "colab": {
          "base_uri": "https://localhost:8080/"
        },
        "id": "YZrVYjd-QvlJ",
        "outputId": "3d84ad03-ae3d-4fa2-ac72-a99794421ffd"
      },
      "execution_count": 10,
      "outputs": [
        {
          "output_type": "execute_result",
          "data": {
            "text/plain": [
              "[1, 2, 4, 5]"
            ]
          },
          "metadata": {},
          "execution_count": 10
        }
      ]
    },
    {
      "cell_type": "code",
      "source": [
        "# Write a code to access the second element in the list ['a', 'b', 'c', 'd']\n",
        "a=['a', 'b', 'c', 'd']\n",
        "print(a[1])"
      ],
      "metadata": {
        "colab": {
          "base_uri": "https://localhost:8080/"
        },
        "id": "mAayy6MbRCQ2",
        "outputId": "bdcd2614-2dfa-4740-a9ec-f0c77ecd6674"
      },
      "execution_count": 11,
      "outputs": [
        {
          "output_type": "stream",
          "name": "stdout",
          "text": [
            "b\n"
          ]
        }
      ]
    },
    {
      "cell_type": "code",
      "source": [
        "# Write a code to reverse the list [10, 20, 30, 40, 50]\n",
        "list= [10, 20, 30, 40, 50]\n",
        "list.reverse()\n",
        "print(list)"
      ],
      "metadata": {
        "colab": {
          "base_uri": "https://localhost:8080/"
        },
        "id": "C2zE284DRTN-",
        "outputId": "bdd070e7-a96b-4078-a7d7-b6febbc05e7d"
      },
      "execution_count": 16,
      "outputs": [
        {
          "output_type": "stream",
          "name": "stdout",
          "text": [
            "[50, 40, 30, 20, 10]\n"
          ]
        }
      ]
    },
    {
      "cell_type": "code",
      "source": [
        "# Write a code to create a tuple with the elements 100, 200, 300 and print it\n",
        "elements= (100, 200, 300)\n",
        "type(elements)"
      ],
      "metadata": {
        "colab": {
          "base_uri": "https://localhost:8080/"
        },
        "id": "Nzx33SimRgak",
        "outputId": "dcf4f508-f9c8-4ebb-f652-b95ece70bbd1"
      },
      "execution_count": 18,
      "outputs": [
        {
          "output_type": "execute_result",
          "data": {
            "text/plain": [
              "tuple"
            ]
          },
          "metadata": {},
          "execution_count": 18
        }
      ]
    },
    {
      "cell_type": "code",
      "source": [
        "#  Write a code to access the second-to-last element of the tuple ('red', 'green', 'blue', 'yellow').\n",
        "tuple= ('red', 'green', 'blue', 'yellow')\n",
        "print(tuple[2:])"
      ],
      "metadata": {
        "colab": {
          "base_uri": "https://localhost:8080/"
        },
        "id": "K4II7y5VSCT0",
        "outputId": "4b3d8e9f-0277-4afb-e091-aa3625ef3e35"
      },
      "execution_count": 19,
      "outputs": [
        {
          "output_type": "stream",
          "name": "stdout",
          "text": [
            "('blue', 'yellow')\n"
          ]
        }
      ]
    },
    {
      "cell_type": "code",
      "source": [
        "# Write a code to find the minimum number in the tuple (10, 20, 5, 15)\n",
        "tuple =(10, 20, 5, 15)\n",
        "print(min(tuple))"
      ],
      "metadata": {
        "colab": {
          "base_uri": "https://localhost:8080/"
        },
        "id": "_pW80n7qSRfO",
        "outputId": "59188d7a-b9b7-44d6-e40b-6f40b2d52254"
      },
      "execution_count": 20,
      "outputs": [
        {
          "output_type": "stream",
          "name": "stdout",
          "text": [
            "5\n"
          ]
        }
      ]
    },
    {
      "cell_type": "code",
      "source": [
        "# Write a code to find the index of the element \"cat\" in the tuple ('dog', 'cat', 'rabbit')\n",
        "tuple =('dog', 'cat', 'rabbit')\n",
        "print(tuple.index(\"cat\"))"
      ],
      "metadata": {
        "colab": {
          "base_uri": "https://localhost:8080/"
        },
        "id": "iZgu_N0ESc3p",
        "outputId": "4e7ddb33-7f61-4887-acd3-0ac47b45d612"
      },
      "execution_count": 24,
      "outputs": [
        {
          "output_type": "stream",
          "name": "stdout",
          "text": [
            "1\n"
          ]
        }
      ]
    },
    {
      "cell_type": "code",
      "source": [
        "#  Write a code to create a tuple containing three different fruits and check if \"kiwi\" is in it.\n",
        "fruits = ('apple', 'banana', 'kiwi')\n",
        "print(\"kiwi\" in fruits)"
      ],
      "metadata": {
        "colab": {
          "base_uri": "https://localhost:8080/"
        },
        "id": "-kg9glPTSzBb",
        "outputId": "4f7ccbce-7cd3-488c-ebd9-3ee2c3a8681a"
      },
      "execution_count": 26,
      "outputs": [
        {
          "output_type": "stream",
          "name": "stdout",
          "text": [
            "True\n"
          ]
        }
      ]
    },
    {
      "cell_type": "code",
      "source": [
        "# Write a code to create a set with the elements 'a', 'b', 'c' and print it.\n",
        "element = {'a', 'b', 'c'}\n",
        "print(element)"
      ],
      "metadata": {
        "colab": {
          "base_uri": "https://localhost:8080/"
        },
        "id": "cCLCMgxzTDi_",
        "outputId": "d353b461-9a4b-46c8-8666-152ffabc744a"
      },
      "execution_count": 27,
      "outputs": [
        {
          "output_type": "stream",
          "name": "stdout",
          "text": [
            "{'c', 'a', 'b'}\n"
          ]
        }
      ]
    },
    {
      "cell_type": "code",
      "source": [
        "# Write a code to clear all elements from the set {1, 2, 3, 4, 5}.\n",
        "element = {1, 2, 3, 4, 5}\n",
        "element.clear()\n",
        "print(element)"
      ],
      "metadata": {
        "colab": {
          "base_uri": "https://localhost:8080/"
        },
        "id": "fvTKRoccTc2X",
        "outputId": "af239ba7-9101-4a49-d9a9-ffac37e5df39"
      },
      "execution_count": 28,
      "outputs": [
        {
          "output_type": "stream",
          "name": "stdout",
          "text": [
            "set()\n"
          ]
        }
      ]
    },
    {
      "cell_type": "code",
      "source": [
        "# Write a code to remove the element 4 from the set {1, 2, 3, 4}.\n",
        "element = {1, 2, 3, 4}\n",
        "element.remove(4)\n",
        "print(element)"
      ],
      "metadata": {
        "colab": {
          "base_uri": "https://localhost:8080/"
        },
        "id": "X0mq4VRkTmb9",
        "outputId": "eec9ea87-3669-4d18-b8b3-3f3fa03cf705"
      },
      "execution_count": 29,
      "outputs": [
        {
          "output_type": "stream",
          "name": "stdout",
          "text": [
            "{1, 2, 3}\n"
          ]
        }
      ]
    },
    {
      "cell_type": "code",
      "source": [
        "#  Write a code to find the union of two sets {1, 2, 3} and {3, 4, 5}.\n",
        "set1 = {1, 2, 3}\n",
        "set2 = {3, 4, 5}\n",
        "union_set = set1 | set2\n",
        "print(union_set)"
      ],
      "metadata": {
        "colab": {
          "base_uri": "https://localhost:8080/"
        },
        "id": "88Gt-qoDTwwQ",
        "outputId": "4ad1864d-2af9-4cec-d8d8-6096eb65376b"
      },
      "execution_count": 31,
      "outputs": [
        {
          "output_type": "stream",
          "name": "stdout",
          "text": [
            "{1, 2, 3, 4, 5}\n"
          ]
        }
      ]
    },
    {
      "cell_type": "code",
      "source": [
        "# Write a code to find the intersection of two sets {1, 2, 3} and {2, 3, 4}.\n",
        "set1 = {1, 2, 3}\n",
        "set2 = {2, 3, 4}\n",
        "intersection_set = set1 & set2\n",
        "print(intersection_set)"
      ],
      "metadata": {
        "colab": {
          "base_uri": "https://localhost:8080/"
        },
        "id": "49Zzf4aOUE1T",
        "outputId": "b07ea8e4-f3ff-4586-e59d-3091842eae8d"
      },
      "execution_count": 32,
      "outputs": [
        {
          "output_type": "stream",
          "name": "stdout",
          "text": [
            "{2, 3}\n"
          ]
        }
      ]
    },
    {
      "cell_type": "code",
      "source": [
        "#  Write a code to create a dictionary with the keys \"name\", \"age\", and \"city\", and print it.\n",
        "dict={\n",
        "    \"name\":\"anubhav\",\n",
        "    \"age\":22,\n",
        "    \"city\":\"lucknow\"\n",
        "}\n",
        "print(dict)\n"
      ],
      "metadata": {
        "colab": {
          "base_uri": "https://localhost:8080/"
        },
        "id": "QZroclX7Y8Is",
        "outputId": "4dc62dc5-28ba-4bd9-dd73-dfd5c7ee59d6"
      },
      "execution_count": 1,
      "outputs": [
        {
          "output_type": "stream",
          "name": "stdout",
          "text": [
            "{'name': 'anubhav', 'age': 22, 'city': 'lucknow'}\n"
          ]
        }
      ]
    },
    {
      "cell_type": "code",
      "source": [
        "# Write a code to add a new key-value pair \"country\": \"USA\" to the dictionary {'name': 'John', 'age': 25}\n",
        "dict={\n",
        "    \"name\":\"John\",\n",
        "    \"age\":25\n",
        "}\n",
        "dict[\"country\"]=\"USA\"\n",
        "print(dict)\n"
      ],
      "metadata": {
        "colab": {
          "base_uri": "https://localhost:8080/"
        },
        "id": "Zh_Z_FJKrSsW",
        "outputId": "f34af32d-86ad-4ef9-efee-b8afc7302349"
      },
      "execution_count": 2,
      "outputs": [
        {
          "output_type": "stream",
          "name": "stdout",
          "text": [
            "{'name': 'John', 'age': 25, 'country': 'USA'}\n"
          ]
        }
      ]
    },
    {
      "cell_type": "code",
      "source": [
        "# Write a code to access the value associated with the key \"name\" in the dictionary {'name': 'Alice', 'age': 30}.\n",
        "dict={\n",
        "    \"name\":\"Alice\",\n",
        "    \"age\":30\n",
        "}\n",
        "print(dict[\"name\"])\n"
      ],
      "metadata": {
        "colab": {
          "base_uri": "https://localhost:8080/"
        },
        "id": "Xk2EmGBuriyc",
        "outputId": "985f26be-7f1f-4548-c142-23fe02d8d056"
      },
      "execution_count": 3,
      "outputs": [
        {
          "output_type": "stream",
          "name": "stdout",
          "text": [
            "Alice\n"
          ]
        }
      ]
    },
    {
      "cell_type": "code",
      "source": [
        "# Write a code to remove the key \"age\" from the dictionary {'name': 'Bob', 'age': 22, 'city': 'New York'}.\n",
        "dict={\n",
        "    \"name\":\"Bob\",\n",
        "    \"age\":22,\n",
        "    \"city\":\"New York\"\n",
        "}\n",
        "del dict[\"age\"]\n",
        "print(dict)"
      ],
      "metadata": {
        "colab": {
          "base_uri": "https://localhost:8080/"
        },
        "id": "cKzjb1swrsMS",
        "outputId": "dd155292-7ee8-49f0-eaee-243f1116df09"
      },
      "execution_count": 4,
      "outputs": [
        {
          "output_type": "stream",
          "name": "stdout",
          "text": [
            "{'name': 'Bob', 'city': 'New York'}\n"
          ]
        }
      ]
    },
    {
      "cell_type": "code",
      "source": [
        "# Write a code to check if the key \"city\" exists in the dictionary {'name': 'Alice', 'city': 'Paris'}.\n",
        "a={\n",
        "    \"name\":\"alice\",\n",
        "    \"city\":\"paris\"\n",
        "}\n",
        "print(\"city\" in a)"
      ],
      "metadata": {
        "colab": {
          "base_uri": "https://localhost:8080/"
        },
        "id": "iE6mvVQYrylg",
        "outputId": "ecc99b98-71b5-4ef0-8bfc-3626b1d5da00"
      },
      "execution_count": 8,
      "outputs": [
        {
          "output_type": "stream",
          "name": "stdout",
          "text": [
            "True\n"
          ]
        }
      ]
    },
    {
      "cell_type": "code",
      "source": [
        "# Write a code to create a list, a tuple, and a dictionary, and print them all.\n",
        "list=[1,2,3,4]\n",
        "tuple=(1,2,3,4)\n",
        "dict={\n",
        "    \"name\":\"anubhav\",\n",
        "    \"age\":22,\n",
        "    \"city\":\"lucknow\"\n",
        "}\n",
        "print(list,tuple,dict)"
      ],
      "metadata": {
        "colab": {
          "base_uri": "https://localhost:8080/"
        },
        "id": "MPOganKWsKAG",
        "outputId": "5cdb56be-710d-4517-8a91-eec21ae5411d"
      },
      "execution_count": 9,
      "outputs": [
        {
          "output_type": "stream",
          "name": "stdout",
          "text": [
            "[1, 2, 3, 4] (1, 2, 3, 4) {'name': 'anubhav', 'age': 22, 'city': 'lucknow'}\n"
          ]
        }
      ]
    },
    {
      "cell_type": "code",
      "source": [
        "\"\"\"Write a code to create a list of 5 random numbers between 1 and 100, sort it in ascending order, and print the\n",
        "result.(replaced)\"\"\"\n",
        "import random\n",
        "random_numbers = [random.randint(1, 100) for _ in range(5)]\n",
        "random_numbers.sort()\n",
        "print(\"Sorted Random Numbers:\", random_numbers)\n",
        "\n"
      ],
      "metadata": {
        "colab": {
          "base_uri": "https://localhost:8080/"
        },
        "id": "A-aYDdl2scC-",
        "outputId": "22f6d28d-3e8f-45b4-bdc2-4d23e81bf941"
      },
      "execution_count": 12,
      "outputs": [
        {
          "output_type": "stream",
          "name": "stdout",
          "text": [
            "Sorted Random Numbers: [10, 12, 39, 79, 90]\n"
          ]
        }
      ]
    },
    {
      "cell_type": "code",
      "source": [
        "# Write a code to create a list with strings and print the element at the third index\n",
        "list=[\"apple\",\"banana\",\"orange\",\"kiwi\",\"mango\"]\n",
        "print(list[3])"
      ],
      "metadata": {
        "colab": {
          "base_uri": "https://localhost:8080/"
        },
        "id": "pqq0Xgv0s_JK",
        "outputId": "ae5dc8a4-782f-4f35-965c-5a4f057b8a57"
      },
      "execution_count": 13,
      "outputs": [
        {
          "output_type": "stream",
          "name": "stdout",
          "text": [
            "kiwi\n"
          ]
        }
      ]
    },
    {
      "cell_type": "code",
      "source": [
        "#  Write a code to combine two dictionaries into one and print the result.\n",
        "dict1 = {'a': 1, 'b': 2}\n",
        "dict2 = {'c': 3, 'd': 4}\n",
        "combined_dict = {**dict1, **dict2}\n",
        "print(combined_dict)"
      ],
      "metadata": {
        "colab": {
          "base_uri": "https://localhost:8080/"
        },
        "id": "8aNpJPA9tTSV",
        "outputId": "04dc78e5-bd35-42eb-d363-44918070733d"
      },
      "execution_count": 14,
      "outputs": [
        {
          "output_type": "stream",
          "name": "stdout",
          "text": [
            "{'a': 1, 'b': 2, 'c': 3, 'd': 4}\n"
          ]
        }
      ]
    },
    {
      "cell_type": "code",
      "source": [
        "# Write a code to convert a list of strings into a set.\n",
        "list = [\"apple\", \"banana\", \"orange\", \"apple\", \"kiwi\"]\n",
        "set_from_list = set(list)\n",
        "print(set_from_list)"
      ],
      "metadata": {
        "colab": {
          "base_uri": "https://localhost:8080/"
        },
        "id": "-HF272sWtW5H",
        "outputId": "cc7901ae-3059-4c35-9dd4-7ce1379e5f30"
      },
      "execution_count": 15,
      "outputs": [
        {
          "output_type": "stream",
          "name": "stdout",
          "text": [
            "{'banana', 'kiwi', 'apple', 'orange'}\n"
          ]
        }
      ]
    },
    {
      "cell_type": "code",
      "source": [],
      "metadata": {
        "id": "Mwxl1woDtd5N"
      },
      "execution_count": null,
      "outputs": []
    }
  ]
}